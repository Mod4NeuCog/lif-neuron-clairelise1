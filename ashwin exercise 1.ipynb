{
 "cells": [
  {
   "cell_type": "code",
   "execution_count": 76,
   "id": "cf29bc3e",
   "metadata": {},
   "outputs": [
    {
     "name": "stdout",
     "output_type": "stream",
     "text": [
      "You won!\n",
      "Probability: 0.9\n",
      "Reward for this round: 100\n",
      "Total Reward: 100\n",
      "\n",
      "You won!\n",
      "Probability: 0.75\n",
      "Reward for this round: 1000\n",
      "Total Reward: 1100\n",
      "\n",
      "You won!\n",
      "Probability: 0.5\n",
      "Reward for this round: 10000\n",
      "Total Reward: 11100\n",
      "\n",
      "You won!\n",
      "Probability: 0.1\n",
      "Reward for this round: 50000\n",
      "Total Reward: 61100\n",
      "\n"
     ]
    }
   ],
   "source": [
    "# Markov Property Exercise using an agent\n",
    "\n",
    "import random #as it is by chance, it must be imported\n",
    "\n",
    "#define the game\n",
    "\n",
    "def game_result(inputA, inputB, total_reward):\n",
    "    if inputA not in ['Q1', 'Q2', 'Q3', 'Q4']:\n",
    "        raise ValueError(\"Invalid input. Choose from Q1, Q2, Q3, or Q4.\")\n",
    "    if inputB not in ['play', 'leave']:\n",
    "        raise ValueError(\"Invalid input. Choose either 'play' or 'leave'.\")\n",
    "\n",
    "    # Define the probabilities and rewards based on the inputA\n",
    "    probabilities = [0.9, 0.75, 0.5, 0.1]\n",
    "    rewards = [100, 1000, 10000, 50000]\n",
    "    quitting_amounts = [0, 100, 1100, 11100]\n",
    "\n",
    "    # Determine the result based on the inputs\n",
    "    index = ['Q1', 'Q2', 'Q3', 'Q4'].index(inputA)\n",
    "    if inputB == 'play':\n",
    "        # play starting with Q1\n",
    "        if random.random() < probabilities[index]:\n",
    "            result = \"You won!\"\n",
    "            p = probabilities[index]\n",
    "            rew = rewards[index]\n",
    "            #keeps playing only if you win\n",
    "        else:\n",
    "            result = \"You lost! Game Over.\"\n",
    "            p = 0\n",
    "            rew = 0 #0 as you win nothing for this round if you lose\n",
    "            return result, p, rew, total_reward\n",
    "        #If you lost, game ends \n",
    "    else:\n",
    "        result = \"You quit. Game Over.\" #If you quit, game over\n",
    "        p = 0\n",
    "        rew = quitting_amounts[index]\n",
    "        return result, p, rew, total_reward\n",
    "\n",
    "    total_reward += rew #adds to the total reward\n",
    "    return result, p, rew, total_reward\n",
    "\n",
    "total_reward = 0\n",
    "#set total reward to 0\n",
    "\n",
    "for quarter in ['Q1', 'Q2', 'Q3', 'Q4']:\n",
    "    inputA = quarter\n",
    "    inputB = 'play'\n",
    "\n",
    "    result, probabilities, rewards, total_reward = game_result(inputA, inputB, total_reward)\n",
    "\n",
    "    #print all the results\n",
    "    print(result)\n",
    "    print(\"Probability:\", probabilities)\n",
    "    print(\"Reward for this round:\", rewards)\n",
    "    print(\"Total Reward:\", total_reward)\n",
    "    print()\n",
    "\n",
    "    if \"Game Over\" in result in result:\n",
    "        break\n"
   ]
  },
  {
   "cell_type": "code",
   "execution_count": null,
   "id": "62383d76",
   "metadata": {},
   "outputs": [],
   "source": []
  }
 ],
 "metadata": {
  "kernelspec": {
   "display_name": "Python 3 (ipykernel)",
   "language": "python",
   "name": "python3"
  },
  "language_info": {
   "codemirror_mode": {
    "name": "ipython",
    "version": 3
   },
   "file_extension": ".py",
   "mimetype": "text/x-python",
   "name": "python",
   "nbconvert_exporter": "python",
   "pygments_lexer": "ipython3",
   "version": "3.10.7"
  }
 },
 "nbformat": 4,
 "nbformat_minor": 5
}

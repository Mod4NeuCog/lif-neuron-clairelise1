{
 "cells": [
  {
   "cell_type": "code",
   "execution_count": 1,
   "id": "af373dc5",
   "metadata": {},
   "outputs": [],
   "source": [
    "#Course 2 \n",
    "\n",
    "import math\n",
    "import numpy as np\n",
    "import random\n",
    "\n",
    "# Define the Neuron class\n",
    "class Neuron:\n",
    "    def __init__(self):\n",
    "        self.activation = 0\n",
    "        #activation should be zero in the beginning\n",
    "\n",
    "    def signal_integration(self, vsignals, sweight):\n",
    "        self.vsignals = vsignals\n",
    "        self.sweight = sweight\n",
    "        self.ssum = sum(self.vsignals * self.sweight)\n",
    "        self.activation = 1 / (1 + math.exp(-self.ssum)) #sigmoid\n",
    "        \n",
    "# Define the Layer class\n",
    "class Layer:\n",
    "    def __init__(self, layer_index, n_neurons):\n",
    "        self.layer_index = layer_index\n",
    "        self.n_neurons = n_neurons\n",
    "        self.neuron_layer = [Neuron() for _ in range(n_neurons)]\n",
    "\n",
    "\n",
    "# Define the Connection class\n",
    "class Connection:\n",
    "    def __init__(self, previous_layer_n, next_layer_n):\n",
    "        self.previous_layer_n = previous_layer_n\n",
    "        self.next_layer_n = next_layer_n\n",
    "        self.matrix_connections = np.zeros((self.previous_layer_n, self.next_layer_n))\n",
    "\n",
    "        # Connection matrix: the number of rows is the previous layer, and the columns represent the next layer\n",
    "        for i in range(self.previous_layer_n):  # Number of rows\n",
    "            for j in range(self.next_layer_n):  # Number of columns\n",
    "                self.matrix_connections[i][j] = random.random()\n",
    "\n",
    "\n",
    "# Define the Network class\n",
    "class Network:\n",
    "    def __init__(self, n_neurons):\n",
    "        self.n_layers = int(input(\"Input the number of layers in the network: \"))\n",
    "        self.network = []\n",
    "\n",
    "        # Create the layers\n",
    "        for i in range(self.n_layers):\n",
    "            n_neurons = int(input(f\"Input the number of neurons in layer {i+1}: \"))\n",
    "            layer = Layer(i, n_neurons)\n",
    "            self.network.append(layer)\n",
    "\n",
    "        # Create the matrices for the connections\n",
    "        self.connections = []\n",
    "\n",
    "        for i in range(self.n_layers - 1):\n",
    "            n_previous_layer = len(self.network[i].neuron_layer)  # Number of neurons in the previous layer\n",
    "            n_next_layer = len(self.network[i + 1].neuron_layer)  # Number of neurons in the next layer\n",
    "            connection = Connection(n_previous_layer, n_next_layer)\n",
    "            self.connections.append(connection.matrix_connections)\n",
    "\n",
    "    def signal_stream(self, input_vec):\n",
    "        self.inputs = input_vec\n",
    "\n",
    "        # Compute the first layer update\n",
    "        for i in range(len(self.network[0].neuron_layer)):\n",
    "            if i < len(self.inputs):\n",
    "                self.network[0].neuron_layer[i].activation = self.inputs[i]\n",
    "            else:\n",
    "                self.network[0].neuron_layer[i].activation = 0.0\n",
    "\n",
    "        #for i in range(len(self.network[0].neuron_layer)):\n",
    "            #self.network[0].neuron_layer[i].activation = self.inputs[i]\n",
    "\n",
    "        # Loop over the layers (from the 2nd to the last layer)\n",
    "        for i in range(self.n_layers - 1):\n",
    "            n_neurons = len(self.network[i + 1].neuron_layer)\n",
    "            self.new_inputs = np.zeros(n_neurons)\n",
    "            weight_matrix = self.connections[i]\n",
    "\n",
    "            for a in range(n_neurons):\n",
    "                weight = weight_matrix[:, a]\n",
    "                self.network[i + 1].neuron_layer[a].signal_integration(self.inputs, weight)\n",
    "                self.new_inputs[a] = self.network[i + 1].neuron_layer[a].activation\n",
    "\n",
    "            self.inputs = self.new_inputs\n",
    "\n",
    "    def system_state(self):\n",
    "        for i in range(self.n_layers):\n",
    "            state_vec = np.zeros(len(self.network[i].neuron_layer))\n",
    "\n",
    "            for a in range(len(self.network[i].neuron_layer)):\n",
    "                state_vec[a] = self.network[i].neuron_layer[a].activation\n",
    "\n",
    "            print(f\"Layer {i + 1} has activation values:\", state_vec)\n",
    "\n",
    "#now determine which is the \"winner\"\n",
    "    def winner(self):\n",
    "        counter = 0\n",
    "        highest_val = self.network[-1].neuron_layer[0].activation\n",
    "\n",
    "        for i in range(self.network[-1].n_neurons - 1):\n",
    "            new_value = self.network[-1].neuron_layer[i + 1].activation\n",
    "            \n",
    "            if new_value > highest_val:\n",
    "                highest_val = new_value\n",
    "                counter = i\n",
    "                \n",
    "        \n",
    "        print(f\"For the last layer the neuron with the highest value is the {counter + 2} neuron\")\n",
    "\n",
    "\n",
    "    \n",
    "   "
   ]
  },
  {
   "cell_type": "code",
   "execution_count": 2,
   "id": "37f8ed45",
   "metadata": {},
   "outputs": [
    {
     "name": "stdout",
     "output_type": "stream",
     "text": [
      "Input the number of layers in the network: 3\n",
      "Input the number of neurons in layer 1: 3\n",
      "Input the number of neurons in layer 2: 3\n",
      "Input the number of neurons in layer 3: 3\n"
     ]
    }
   ],
   "source": [
    "### now run it, the number in the () is the desired number of neurons in the network. In this case it is 3, but can be changed\n",
    "network = Network(3)"
   ]
  },
  {
   "cell_type": "code",
   "execution_count": 7,
   "id": "37ac3aad",
   "metadata": {},
   "outputs": [],
   "source": [
    "#change the activation values\n",
    "input_vec = np.array([1, 0.5, 0.5]) #change the numbers in the () as desired\n",
    "network.signal_stream(input_vec)"
   ]
  },
  {
   "cell_type": "code",
   "execution_count": 8,
   "id": "2244c169",
   "metadata": {},
   "outputs": [
    {
     "name": "stdout",
     "output_type": "stream",
     "text": [
      "Layer 1 has activation values: [1.  0.5 0.5]\n",
      "Layer 2 has activation values: [0.85599719 0.77003048 0.66479893]\n",
      "Layer 3 has activation values: [0.79217262 0.84141261 0.6488854 ]\n"
     ]
    }
   ],
   "source": [
    "#Now check the changed activation values\n",
    "network.system_state()"
   ]
  },
  {
   "cell_type": "code",
   "execution_count": 9,
   "id": "c01ced88",
   "metadata": {},
   "outputs": [
    {
     "name": "stdout",
     "output_type": "stream",
     "text": [
      "For the last layer the neuron with the highest value is the 2 neuron\n"
     ]
    }
   ],
   "source": [
    "#which one is the winner ?\n",
    "network.winner()"
   ]
  }
 ],
 "metadata": {
  "kernelspec": {
   "display_name": "Python 3 (ipykernel)",
   "language": "python",
   "name": "python3"
  },
  "language_info": {
   "codemirror_mode": {
    "name": "ipython",
    "version": 3
   },
   "file_extension": ".py",
   "mimetype": "text/x-python",
   "name": "python",
   "nbconvert_exporter": "python",
   "pygments_lexer": "ipython3",
   "version": "3.10.7"
  }
 },
 "nbformat": 4,
 "nbformat_minor": 5
}

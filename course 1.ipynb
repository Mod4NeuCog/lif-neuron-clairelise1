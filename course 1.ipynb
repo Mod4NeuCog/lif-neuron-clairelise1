{
 "cells": [
  {
   "cell_type": "code",
   "execution_count": 9,
   "id": "7f258468",
   "metadata": {},
   "outputs": [
    {
     "name": "stdout",
     "output_type": "stream",
     "text": [
      "Enter a number: 0\n",
      "The sigmoid of 0.0 is 0.5\n",
      "The change in sigmoid is 0.0\n"
     ]
    }
   ],
   "source": [
    "#Version 1. Takes the input and gives the sigmoid\n",
    "\n",
    "import math\n",
    "\n",
    "# Define the sigmoid function\n",
    "def sigmoid(x):\n",
    "    return 1 / (1 + math.exp(-x))\n",
    "\n",
    "# Input\n",
    "x = float(input(\"Enter a number: \"))\n",
    "\n",
    "\n",
    "# Apply the sigmoid function to the input\n",
    "result = sigmoid(x)\n",
    "\n",
    "# Print\n",
    "print(\"The sigmoid of\", x, \"is\", result)"
   ]
  },
  {
   "cell_type": "code",
   "execution_count": 16,
   "id": "96cd14ef",
   "metadata": {},
   "outputs": [
    {
     "name": "stdout",
     "output_type": "stream",
     "text": [
      "The neural network output for inputs [0, 0, 0] is 0.5\n"
     ]
    }
   ],
   "source": [
    "#Version 2, now uses classes and has weights and the input is already coded for\n",
    "\n",
    "import math\n",
    "\n",
    "# Define the sigmoid function\n",
    "def sigmoid(x):\n",
    "    return 1 / (1 + math.exp(-x))\n",
    "\n",
    "# Define a class for the neural network\n",
    "class NeuralNetwork:\n",
    "    def __init__(self, weights):\n",
    "        self.weights = weights\n",
    "\n",
    "    def predict(self, inputs):\n",
    "        # Calculate the weighted sum of the inputs\n",
    "        for i in range(len(inputs)):\n",
    "            weighted_sum = inputs[i] * self.weights[i]\n",
    "\n",
    "        # Apply the sigmoid function to the weighted sum\n",
    "        return sigmoid(weighted_sum)\n",
    "\n",
    "# Define the inputs and weights\n",
    "inputs = [0, 0, 0]\n",
    "weights = [0.2, -0.3, 0.5]\n",
    "\n",
    "# Create a neural network with the given weights\n",
    "neural = NeuralNetwork(weights)\n",
    "\n",
    "# Use the neural network to predict the output for the inputs\n",
    "output = neural.predict(inputs)\n",
    "\n",
    "# Print the output\n",
    "print(\"The neural network output for inputs\", inputs, \"is\", output)"
   ]
  },
  {
   "cell_type": "code",
   "execution_count": 2,
   "id": "42c61d6e",
   "metadata": {},
   "outputs": [
    {
     "name": "stdout",
     "output_type": "stream",
     "text": [
      "The neural network for layer 1 is [0.79111238 0.75969171 0.71387445 0.73797276 0.50980068 0.59328006\n",
      " 0.25639416 0.54955585 0.31573856 0.50652065 0.30599136 0.60527315\n",
      " 0.56826319 0.29239396 0.56241751 0.79849862 0.76312235 0.3187511\n",
      " 0.71036788 0.46803899 0.56040707 0.25943736 0.6866865  0.62842132\n",
      " 0.41095477 0.67351607 0.50888486 0.17861176 0.81595317 0.25097903\n",
      " 0.2118777  0.51745938 0.5615291  0.63607798 0.80121582 0.47228333\n",
      " 0.2104721  0.59955483 0.59946196 0.59304867 0.4179164  0.18332514\n",
      " 0.43555582 0.44879732 0.7491379  0.44683582 0.45239851 0.67624372\n",
      " 0.22882071 0.81679329]\n",
      "The neural network for layer 2 is [0.56514002 0.54021854 0.38294487 0.69170013 0.54896359 0.77024671\n",
      " 0.63940177 0.7629086  0.6455305  0.60178222 0.31557086 0.61266263\n",
      " 0.7941188  0.29271299 0.52078028 0.83530208 0.47270351 0.24710208\n",
      " 0.70568194 0.2894348  0.44404557 0.61582266 0.80068909 0.60189788\n",
      " 0.69585366 0.59547122 0.70884115 0.5195093  0.6175481  0.48646082\n",
      " 0.25664424 0.20452392 0.58705815 0.78765066 0.76819819 0.72140395\n",
      " 0.19777335 0.55124053 0.54303708 0.35591751 0.43967531 0.66175208\n",
      " 0.40151024 0.47713722 0.56338166 0.67517785 0.7448881  0.54581797\n",
      " 0.37172857 0.20065742]\n"
     ]
    },
    {
     "ename": "NameError",
     "evalue": "name 'weighted_sum' is not defined",
     "output_type": "error",
     "traceback": [
      "\u001b[0;31m---------------------------------------------------------------------------\u001b[0m",
      "\u001b[0;31mNameError\u001b[0m                                 Traceback (most recent call last)",
      "Cell \u001b[0;32mIn[2], line 38\u001b[0m\n\u001b[1;32m     35\u001b[0m \u001b[38;5;28mprint\u001b[39m(\u001b[38;5;124m\"\u001b[39m\u001b[38;5;124mThe neural network for layer 2 is\u001b[39m\u001b[38;5;124m\"\u001b[39m, outputlayer2)\n\u001b[1;32m     37\u001b[0m \u001b[38;5;66;03m# Connect the two layers\u001b[39;00m\n\u001b[0;32m---> 38\u001b[0m outputlayer1\u001b[38;5;241m=\u001b[39m layer1 \u001b[38;5;241m*\u001b[39m \u001b[43mweighted_sum\u001b[49m\n\u001b[1;32m     39\u001b[0m \u001b[38;5;28mprint\u001b[39m(outputlayer1)\n",
      "\u001b[0;31mNameError\u001b[0m: name 'weighted_sum' is not defined"
     ]
    }
   ],
   "source": [
    "#Version 3, now uses matrices to create a neural network\n",
    "\n",
    "import numpy as np\n",
    "\n",
    "# Define the sigmoid function\n",
    "def sigmoid(x):\n",
    "    return 1 / (1 + np.exp(-x))\n",
    "\n",
    "# Define a class for the neural network\n",
    "class NeuralNetwork:\n",
    "    def __init__(self, num_inputs, num_neurons):\n",
    "        # Initialize the weights with random values between -1 and 1\n",
    "        self.weights = 2 * np.random.random((num_inputs, num_neurons)) - 1\n",
    "\n",
    "    def forward(self, inputs):\n",
    "        # Calculate the dot product of the inputs and weights\n",
    "        weighted_sum = np.dot(inputs, self.weights)\n",
    "\n",
    "        # Apply the sigmoid function to the weighted sum\n",
    "        return sigmoid(weighted_sum)\n",
    "\n",
    "# Define the inputs\n",
    "inputs = np.array([0.5, -0.2, 1.3])\n",
    "\n",
    "# Create a neural network with 2 layers of 50 neurons\n",
    "layer1 = NeuralNetwork(3, 50)\n",
    "layer2 = NeuralNetwork(3, 50)\n",
    "\n",
    "# Use the neural network to predict the output for the inputs\n",
    "outputlayer1 = layer1.forward(inputs)\n",
    "outputlayer2 = layer2.forward(inputs)\n",
    "\n",
    "# Print the output\n",
    "print(\"The neural network for layer 1 is\", outputlayer1)\n",
    "print(\"The neural network for layer 2 is\", outputlayer2)\n",
    "\n",
    "# Connect the two layers\n",
    "outputlayer1= layer1 * weighted_sum\n",
    "print(outputlayer1)\n"
   ]
  },
  {
   "cell_type": "code",
   "execution_count": null,
   "id": "c356d9b0",
   "metadata": {},
   "outputs": [],
   "source": []
  }
 ],
 "metadata": {
  "kernelspec": {
   "display_name": "Python 3 (ipykernel)",
   "language": "python",
   "name": "python3"
  },
  "language_info": {
   "codemirror_mode": {
    "name": "ipython",
    "version": 3
   },
   "file_extension": ".py",
   "mimetype": "text/x-python",
   "name": "python",
   "nbconvert_exporter": "python",
   "pygments_lexer": "ipython3",
   "version": "3.10.7"
  }
 },
 "nbformat": 4,
 "nbformat_minor": 5
}
